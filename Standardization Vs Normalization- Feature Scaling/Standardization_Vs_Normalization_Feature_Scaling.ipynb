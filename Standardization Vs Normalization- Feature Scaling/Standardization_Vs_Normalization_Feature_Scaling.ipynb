{
  "nbformat": 4,
  "nbformat_minor": 0,
  "metadata": {
    "colab": {
      "name": "Standardization Vs Normalization- Feature Scaling.ipynb",
      "private_outputs": true,
      "provenance": []
    },
    "kernelspec": {
      "name": "python3",
      "display_name": "Python 3"
    },
    "language_info": {
      "name": "python"
    }
  },
  "cells": [
    {
      "cell_type": "code",
      "source": [
        "from google.colab import drive\n",
        "drive.mount('/content/drive')"
      ],
      "metadata": {
        "id": "byAAA8RelgTK"
      },
      "execution_count": null,
      "outputs": []
    },
    {
      "cell_type": "code",
      "execution_count": null,
      "metadata": {
        "id": "ukRdzE4llb5q"
      },
      "outputs": [],
      "source": [
        "import pandas as pd\n",
        "import numpy as np"
      ]
    },
    {
      "cell_type": "code",
      "source": [
        "data = pd.read_csv(\"/content/drive/MyDrive/Machine Learning - Part by Part/Standardization Vs Normalization- Feature Scaling/wine_data.csv\")\n",
        "data.head(3)"
      ],
      "metadata": {
        "id": "hNXRt4holrXZ"
      },
      "execution_count": null,
      "outputs": []
    },
    {
      "cell_type": "markdown",
      "source": [
        "## **Normalization**"
      ],
      "metadata": {
        "id": "lYEFfxrlmClo"
      }
    },
    {
      "cell_type": "markdown",
      "source": [
        "# *Normalization(min-max Normalization)*"
      ],
      "metadata": {
        "id": "fxAttZ-4mIQD"
      }
    },
    {
      "cell_type": "markdown",
      "source": [
        "In this approach we will scale down the values of the features between 0 and 1"
      ],
      "metadata": {
        "id": "IJ2aqb6dmS2B"
      }
    },
    {
      "cell_type": "markdown",
      "source": [
        "X_norm = (X - X_min) / (X_max  - X_min)"
      ],
      "metadata": {
        "id": "S_Lz7_DKmgIX"
      }
    },
    {
      "cell_type": "code",
      "source": [
        "df = pd.read_csv(\"/content/drive/MyDrive/Machine Learning - Part by Part/Standardization Vs Normalization- Feature Scaling/wine_data.csv\",header=None,usecols=[0,1,2])\n",
        "df.columns=['Class','Alcohol','Malic']\n",
        "df.head(3)"
      ],
      "metadata": {
        "id": "0tY9TVNHly5q"
      },
      "execution_count": null,
      "outputs": []
    },
    {
      "cell_type": "code",
      "source": [
        "from sklearn.preprocessing import MinMaxScaler"
      ],
      "metadata": {
        "id": "YfmbH80jm46u"
      },
      "execution_count": null,
      "outputs": []
    },
    {
      "cell_type": "code",
      "source": [
        "min_max = MinMaxScaler()"
      ],
      "metadata": {
        "id": "I3QkYj-Rnjz1"
      },
      "execution_count": null,
      "outputs": []
    },
    {
      "cell_type": "code",
      "source": [
        "min_max.fit(df[['Alcohol','Malic']])  # [['Alcohol','Malic']]"
      ],
      "metadata": {
        "id": "-uL8JvSWnnBZ"
      },
      "execution_count": null,
      "outputs": []
    },
    {
      "cell_type": "code",
      "source": [
        "min_max_output = min_max.transform(df[['Alcohol','Malic']])\n",
        "min_max_output[:3]"
      ],
      "metadata": {
        "id": "h3fFpLm3nqq-"
      },
      "execution_count": null,
      "outputs": []
    },
    {
      "cell_type": "code",
      "source": [
        "min_max_1 =  MinMaxScaler()\n",
        "min_max_1.fit(df)\n",
        "min_max_1_output = min_max_1.transform(df)\n",
        "min_max_1_output[:3]"
      ],
      "metadata": {
        "id": "VpJNUaiKn4kN"
      },
      "execution_count": null,
      "outputs": []
    },
    {
      "cell_type": "markdown",
      "source": [
        "## **Standardization**"
      ],
      "metadata": {
        "id": "pQNv5qL6ouKh"
      }
    },
    {
      "cell_type": "markdown",
      "source": [
        "# *Standardization(Z-Score Normalization)*"
      ],
      "metadata": {
        "id": "YMLSq1T2ozZp"
      }
    },
    {
      "cell_type": "markdown",
      "source": [
        "Here all the features will be transformed in such a way that it will have the properties of a standard normal distributionwith mean(miu) = 0 and standard deviation(sigma) = 1"
      ],
      "metadata": {
        "id": "I2WgERW3o6P8"
      }
    },
    {
      "cell_type": "markdown",
      "source": [
        "Z = (X - miu) / sigma"
      ],
      "metadata": {
        "id": "8gpozawKpUQ0"
      }
    },
    {
      "cell_type": "code",
      "source": [
        "from sklearn.preprocessing import StandardScaler"
      ],
      "metadata": {
        "id": "u6BF4YUCotNs"
      },
      "execution_count": null,
      "outputs": []
    },
    {
      "cell_type": "code",
      "source": [
        "std = StandardScaler()"
      ],
      "metadata": {
        "id": "xD-IkeDLomxB"
      },
      "execution_count": null,
      "outputs": []
    },
    {
      "cell_type": "code",
      "source": [
        "std.fit(df)"
      ],
      "metadata": {
        "id": "RnpRTJCGp40e"
      },
      "execution_count": null,
      "outputs": []
    },
    {
      "cell_type": "code",
      "source": [
        "std_output = std.transform(df)\n",
        "std_output[:3]"
      ],
      "metadata": {
        "id": "BAUPXEIUp8eU"
      },
      "execution_count": null,
      "outputs": []
    },
    {
      "cell_type": "code",
      "source": [
        " std_1 = StandardScaler()\n",
        " std_1_output = std_1.fit_transform(df[['Alcohol','Malic']])\n",
        " std_1_output[:3]"
      ],
      "metadata": {
        "id": "FSQsyQhVqAe_"
      },
      "execution_count": null,
      "outputs": []
    }
  ]
}